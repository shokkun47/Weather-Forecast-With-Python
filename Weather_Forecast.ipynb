{
  "nbformat": 4,
  "nbformat_minor": 0,
  "metadata": {
    "colab": {
      "provenance": [],
      "authorship_tag": "ABX9TyPY4lPHLIEnQV3RI+rXz9lu",
      "include_colab_link": true
    },
    "kernelspec": {
      "name": "python3",
      "display_name": "Python 3"
    },
    "language_info": {
      "name": "python"
    }
  },
  "cells": [
    {
      "cell_type": "markdown",
      "metadata": {
        "id": "view-in-github",
        "colab_type": "text"
      },
      "source": [
        "<a href=\"https://colab.research.google.com/github/shokkun47/Weather-Forecast-with-Python/blob/main/Weather_Forecast.ipynb\" target=\"_parent\"><img src=\"https://colab.research.google.com/assets/colab-badge.svg\" alt=\"Open In Colab\"/></a>"
      ]
    },
    {
      "cell_type": "code",
      "execution_count": 3,
      "metadata": {
        "colab": {
          "base_uri": "https://localhost:8080/"
        },
        "id": "B6F4eZVPUArG",
        "outputId": "c3c6714e-c569-4746-96f4-d56c0c803ed3"
      },
      "outputs": [
        {
          "output_type": "stream",
          "name": "stdout",
          "text": [
            "今日の天気：くもり所により昼過ぎから雨\n"
          ]
        }
      ],
      "source": [
        "import requests\n",
        "\n",
        "jma_url = \"https://www.jma.go.jp/bosai/forecast/data/forecast/130000.json\"\n",
        "\n",
        "response = requests.get(jma_url)\n",
        "jma_json = response.json()\n",
        "\n",
        "jma_weather = jma_json[0][\"timeSeries\"][0][\"areas\"][0][\"weathers\"][0].replace('　','')\n",
        "\n",
        "print(\"今日の天気：\" + jma_weather)\n"
      ]
    },
    {
      "cell_type": "code",
      "source": [],
      "metadata": {
        "id": "s2gvIoJpURU9"
      },
      "execution_count": null,
      "outputs": []
    }
  ]
}